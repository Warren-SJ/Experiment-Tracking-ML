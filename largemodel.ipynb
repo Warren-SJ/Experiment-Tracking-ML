{
 "cells": [
  {
   "cell_type": "code",
   "execution_count": null,
   "metadata": {},
   "outputs": [
    {
     "name": "stderr",
     "output_type": "stream",
     "text": [
      "c:\\Users\\warre\\AppData\\Local\\Programs\\Python\\Python312\\Lib\\site-packages\\tqdm\\auto.py:21: TqdmWarning: IProgress not found. Please update jupyter and ipywidgets. See https://ipywidgets.readthedocs.io/en/stable/user_install.html\n",
      "  from .autonotebook import tqdm as notebook_tqdm\n"
     ]
    }
   ],
   "source": [
    "import torch\n",
    "import torch.nn as nn\n",
    "from torchvision import models\n",
    "from torchvision import transforms\n",
    "from torch.utils.data import DataLoader\n",
    "from torchvision import datasets\n",
    "from torchinfo import summary"
   ]
  },
  {
   "cell_type": "code",
   "execution_count": 4,
   "metadata": {},
   "outputs": [],
   "source": [
    "efficientnet_weights = models.EfficientNet_B2_Weights.DEFAULT\n",
    "efficientnet_transforms = efficientnet_weights.transforms\n",
    "efficientnet_model = models.efficientnet_b2(weights=efficientnet_weights)"
   ]
  },
  {
   "cell_type": "code",
   "execution_count": 5,
   "metadata": {},
   "outputs": [
    {
     "name": "stderr",
     "output_type": "stream",
     "text": [
      "Downloading: \"https://download.pytorch.org/models/resnet18-f37072fd.pth\" to C:\\Users\\warre/.cache\\torch\\hub\\checkpoints\\resnet18-f37072fd.pth\n",
      "100%|██████████| 44.7M/44.7M [00:02<00:00, 17.4MB/s]\n"
     ]
    }
   ],
   "source": [
    "resnet18_weights = models.ResNet18_Weights.DEFAULT\n",
    "resnet18_transforms = resnet18_weights.transforms\n",
    "resnet18_model = models.resnet18(weights=resnet18_weights)"
   ]
  },
  {
   "cell_type": "code",
   "execution_count": 6,
   "metadata": {},
   "outputs": [
    {
     "name": "stderr",
     "output_type": "stream",
     "text": [
      "Downloading: \"https://download.pytorch.org/models/resnet152-f82ba261.pth\" to C:\\Users\\warre/.cache\\torch\\hub\\checkpoints\\resnet152-f82ba261.pth\n",
      "100%|██████████| 230M/230M [00:14<00:00, 16.4MB/s] \n"
     ]
    }
   ],
   "source": [
    "resnet152_weights = models.ResNet152_Weights.DEFAULT\n",
    "resnet152_transforms = resnet152_weights.transforms\n",
    "resnet152_model = models.resnet152(weights=resnet152_weights)"
   ]
  },
  {
   "cell_type": "code",
   "execution_count": null,
   "metadata": {},
   "outputs": [],
   "source": [
    "vit_weights = models.ViT_B_16_Weights.DEFAULT\n",
    "vit_transforms = vit_weights.transforms\n",
    "vitb16_model = models.vit_b_16(weights=vit_weights)"
   ]
  },
  {
   "cell_type": "code",
   "execution_count": 7,
   "metadata": {},
   "outputs": [
    {
     "name": "stdout",
     "output_type": "stream",
     "text": [
      "Downloading https://data.vision.ee.ethz.ch/cvl/food-101.tar.gz to data\\food-101.tar.gz\n"
     ]
    },
    {
     "name": "stderr",
     "output_type": "stream",
     "text": [
      " 42%|████▏     | 2115469312/4996278331 [12:48<20:35, 2331036.09it/s]  "
     ]
    }
   ],
   "source": [
    "train_dataset, test_dataset = datasets.Food101(root = 'data', download = True, transform = None)"
   ]
  },
  {
   "cell_type": "code",
   "execution_count": null,
   "metadata": {},
   "outputs": [],
   "source": [
    "class_names = train_dataset.classes\n",
    "num_classes = len(class_names)\n",
    "print(f'num_classes: {num_classes}')\n",
    "print(f'class_names: {class_names}')"
   ]
  },
  {
   "cell_type": "code",
   "execution_count": null,
   "metadata": {},
   "outputs": [],
   "source": [
    "for param in efficientnet_model.parameters():\n",
    "    param.requires_grad = False\n",
    "\n",
    "print(summary(efficientnet_model, input_size=(32, 3, 224, 224),col_names=(\"input_size\", \"output_size\", \"num_params\")))"
   ]
  },
  {
   "cell_type": "code",
   "execution_count": null,
   "metadata": {},
   "outputs": [],
   "source": [
    "for param in resnet18_model.parameters():\n",
    "    param.requires_grad = False\n",
    "\n",
    "print(summary(resnet18_model, input_size=(32, 3, 224, 224),col_names=(\"input_size\", \"output_size\", \"num_params\")))"
   ]
  },
  {
   "cell_type": "code",
   "execution_count": null,
   "metadata": {},
   "outputs": [],
   "source": [
    "for param in resnet152_model.parameters():\n",
    "    param.requires_grad = False\n",
    "\n",
    "print(summary(resnet152_model, input_size=(32, 3, 224, 224),col_names=(\"input_size\", \"output_size\", \"num_params\")))"
   ]
  },
  {
   "cell_type": "code",
   "execution_count": null,
   "metadata": {},
   "outputs": [],
   "source": [
    "for param in vitb16_model.parameters():\n",
    "    param.requires_grad = False\n",
    "\n",
    "print(summary(vitb16_model, input_size=(32, 3, 224, 224),col_names=(\"input_size\", \"output_size\", \"num_params\")))"
   ]
  }
 ],
 "metadata": {
  "kernelspec": {
   "display_name": "Python 3",
   "language": "python",
   "name": "python3"
  },
  "language_info": {
   "codemirror_mode": {
    "name": "ipython",
    "version": 3
   },
   "file_extension": ".py",
   "mimetype": "text/x-python",
   "name": "python",
   "nbconvert_exporter": "python",
   "pygments_lexer": "ipython3",
   "version": "3.12.1"
  }
 },
 "nbformat": 4,
 "nbformat_minor": 2
}
