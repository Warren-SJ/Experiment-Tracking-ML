{
 "cells": [
  {
   "cell_type": "code",
   "execution_count": 77,
   "metadata": {},
   "outputs": [
    {
     "data": {
      "text/plain": [
       "<module 'scripts.model_acquisition' from 'd:\\\\pytorch\\\\Experiment-Tracking-ML\\\\scripts\\\\model_acquisition.py'>"
      ]
     },
     "execution_count": 77,
     "metadata": {},
     "output_type": "execute_result"
    }
   ],
   "source": [
    "import torch\n",
    "import torch.nn as nn\n",
    "import torchvision\n",
    "from torchinfo import summary\n",
    "import numpy as np\n",
    "import pandas as pd \n",
    "import matplotlib.pyplot as plt\n",
    "from scripts import data_acquisition, data_setup, engine, plot_loss_curves, utils, model_acquisition\n",
    "from pathlib import Path\n",
    "from PIL import Image\n",
    "from typing import List, Dict, Tuple\n",
    "import time\n",
    "import gradio as gr\n",
    "import random\n",
    "import importlib\n",
    "importlib.reload(model_acquisition)"
   ]
  },
  {
   "cell_type": "code",
   "execution_count": 116,
   "metadata": {},
   "outputs": [],
   "source": [
    "DATA_PATH = Path(\"data\")\n",
    "IMAGE_PATH = Path(\"pizza_steak_sushi_20\")\n",
    "MODEL_PATH = Path(\"models\")\n",
    "BATCH_SIZE = 32\n",
    "EPCOHS = 10\n",
    "device = \"cuda\" if torch.cuda.is_available() else \"cpu\""
   ]
  },
  {
   "cell_type": "code",
   "execution_count": 117,
   "metadata": {},
   "outputs": [
    {
     "name": "stdout",
     "output_type": "stream",
     "text": [
      "Image directory already exists\n",
      "Done!\n"
     ]
    }
   ],
   "source": [
    "data_acquisition.acquire_data(image_path=IMAGE_PATH,\n",
    "                              url = \"https://github.com/mrdbourke/pytorch-deep-learning/raw/main/data/pizza_steak_sushi_20_percent.zip\",\n",
    "                              zip_name  = \"pizza_steak_sushi_20_percent.zip\")"
   ]
  },
  {
   "cell_type": "markdown",
   "metadata": {},
   "source": [
    "## Comparing 2 models\n",
    "\n",
    "For this section, we will use both the efficientnet and ViT models to train the same dataset and compare the results. We will use the same dataset and the same training parameters for both models. We will also use the same training and validation data for both models. We will then compare the results of both models to see which one performs better."
   ]
  },
  {
   "cell_type": "markdown",
   "metadata": {},
   "source": [
    "### Efficientnet"
   ]
  },
  {
   "cell_type": "code",
   "execution_count": 118,
   "metadata": {},
   "outputs": [],
   "source": [
    "efficientnet_weights = torchvision.models.EfficientNet_B2_Weights.DEFAULT\n",
    "effnet_transforms = efficientnet_weights.transforms()\n",
    "efficientnet_model = torchvision.models.efficientnet_b2(weights=efficientnet_weights)\n",
    "for param in efficientnet_model.parameters():\n",
    "    param.requires_grad = False"
   ]
  },
  {
   "cell_type": "code",
   "execution_count": 119,
   "metadata": {},
   "outputs": [
    {
     "data": {
      "text/plain": [
       "===========================================================================================================================================================\n",
       "Layer (type:depth-idx)                                  Input Shape               Output Shape              Param #                   Trainable\n",
       "===========================================================================================================================================================\n",
       "EfficientNet                                            [32, 3, 224, 224]         [32, 1000]                --                        False\n",
       "├─Sequential: 1-1                                       [32, 3, 224, 224]         [32, 1408, 7, 7]          --                        False\n",
       "│    └─Conv2dNormActivation: 2-1                        [32, 3, 224, 224]         [32, 32, 112, 112]        --                        False\n",
       "│    │    └─Conv2d: 3-1                                 [32, 3, 224, 224]         [32, 32, 112, 112]        (864)                     False\n",
       "│    │    └─BatchNorm2d: 3-2                            [32, 32, 112, 112]        [32, 32, 112, 112]        (64)                      False\n",
       "│    │    └─SiLU: 3-3                                   [32, 32, 112, 112]        [32, 32, 112, 112]        --                        --\n",
       "│    └─Sequential: 2-2                                  [32, 32, 112, 112]        [32, 16, 112, 112]        --                        False\n",
       "│    │    └─MBConv: 3-4                                 [32, 32, 112, 112]        [32, 16, 112, 112]        (1,448)                   False\n",
       "│    │    └─MBConv: 3-5                                 [32, 16, 112, 112]        [32, 16, 112, 112]        (612)                     False\n",
       "│    └─Sequential: 2-3                                  [32, 16, 112, 112]        [32, 24, 56, 56]          --                        False\n",
       "│    │    └─MBConv: 3-6                                 [32, 16, 112, 112]        [32, 24, 56, 56]          (6,004)                   False\n",
       "│    │    └─MBConv: 3-7                                 [32, 24, 56, 56]          [32, 24, 56, 56]          (10,710)                  False\n",
       "│    │    └─MBConv: 3-8                                 [32, 24, 56, 56]          [32, 24, 56, 56]          (10,710)                  False\n",
       "│    └─Sequential: 2-4                                  [32, 24, 56, 56]          [32, 48, 28, 28]          --                        False\n",
       "│    │    └─MBConv: 3-9                                 [32, 24, 56, 56]          [32, 48, 28, 28]          (16,518)                  False\n",
       "│    │    └─MBConv: 3-10                                [32, 48, 28, 28]          [32, 48, 28, 28]          (43,308)                  False\n",
       "│    │    └─MBConv: 3-11                                [32, 48, 28, 28]          [32, 48, 28, 28]          (43,308)                  False\n",
       "│    └─Sequential: 2-5                                  [32, 48, 28, 28]          [32, 88, 14, 14]          --                        False\n",
       "│    │    └─MBConv: 3-12                                [32, 48, 28, 28]          [32, 88, 14, 14]          (50,300)                  False\n",
       "│    │    └─MBConv: 3-13                                [32, 88, 14, 14]          [32, 88, 14, 14]          (123,750)                 False\n",
       "│    │    └─MBConv: 3-14                                [32, 88, 14, 14]          [32, 88, 14, 14]          (123,750)                 False\n",
       "│    │    └─MBConv: 3-15                                [32, 88, 14, 14]          [32, 88, 14, 14]          (123,750)                 False\n",
       "│    └─Sequential: 2-6                                  [32, 88, 14, 14]          [32, 120, 14, 14]         --                        False\n",
       "│    │    └─MBConv: 3-16                                [32, 88, 14, 14]          [32, 120, 14, 14]         (149,158)                 False\n",
       "│    │    └─MBConv: 3-17                                [32, 120, 14, 14]         [32, 120, 14, 14]         (237,870)                 False\n",
       "│    │    └─MBConv: 3-18                                [32, 120, 14, 14]         [32, 120, 14, 14]         (237,870)                 False\n",
       "│    │    └─MBConv: 3-19                                [32, 120, 14, 14]         [32, 120, 14, 14]         (237,870)                 False\n",
       "│    └─Sequential: 2-7                                  [32, 120, 14, 14]         [32, 208, 7, 7]           --                        False\n",
       "│    │    └─MBConv: 3-20                                [32, 120, 14, 14]         [32, 208, 7, 7]           (301,406)                 False\n",
       "│    │    └─MBConv: 3-21                                [32, 208, 7, 7]           [32, 208, 7, 7]           (686,868)                 False\n",
       "│    │    └─MBConv: 3-22                                [32, 208, 7, 7]           [32, 208, 7, 7]           (686,868)                 False\n",
       "│    │    └─MBConv: 3-23                                [32, 208, 7, 7]           [32, 208, 7, 7]           (686,868)                 False\n",
       "│    │    └─MBConv: 3-24                                [32, 208, 7, 7]           [32, 208, 7, 7]           (686,868)                 False\n",
       "│    └─Sequential: 2-8                                  [32, 208, 7, 7]           [32, 352, 7, 7]           --                        False\n",
       "│    │    └─MBConv: 3-25                                [32, 208, 7, 7]           [32, 352, 7, 7]           (846,900)                 False\n",
       "│    │    └─MBConv: 3-26                                [32, 352, 7, 7]           [32, 352, 7, 7]           (1,888,920)               False\n",
       "│    └─Conv2dNormActivation: 2-9                        [32, 352, 7, 7]           [32, 1408, 7, 7]          --                        False\n",
       "│    │    └─Conv2d: 3-27                                [32, 352, 7, 7]           [32, 1408, 7, 7]          (495,616)                 False\n",
       "│    │    └─BatchNorm2d: 3-28                           [32, 1408, 7, 7]          [32, 1408, 7, 7]          (2,816)                   False\n",
       "│    │    └─SiLU: 3-29                                  [32, 1408, 7, 7]          [32, 1408, 7, 7]          --                        --\n",
       "├─AdaptiveAvgPool2d: 1-2                                [32, 1408, 7, 7]          [32, 1408, 1, 1]          --                        --\n",
       "├─Sequential: 1-3                                       [32, 1408]                [32, 1000]                --                        False\n",
       "│    └─Dropout: 2-10                                    [32, 1408]                [32, 1408]                --                        --\n",
       "│    └─Linear: 2-11                                     [32, 1408]                [32, 1000]                (1,409,000)               False\n",
       "===========================================================================================================================================================\n",
       "Total params: 9,109,994\n",
       "Trainable params: 0\n",
       "Non-trainable params: 9,109,994\n",
       "Total mult-adds (Units.GIGABYTES): 21.09\n",
       "===========================================================================================================================================================\n",
       "Input size (MB): 19.27\n",
       "Forward/backward pass size (MB): 5017.79\n",
       "Params size (MB): 36.44\n",
       "Estimated Total Size (MB): 5073.49\n",
       "==========================================================================================================================================================="
      ]
     },
     "execution_count": 119,
     "metadata": {},
     "output_type": "execute_result"
    }
   ],
   "source": [
    "summary(model = efficientnet_model, \n",
    "        input_size = (32, 3, 224, 224),\n",
    "        col_names = [\"input_size\", \"output_size\", \"num_params\", \"trainable\"],)"
   ]
  },
  {
   "cell_type": "code",
   "execution_count": 120,
   "metadata": {},
   "outputs": [],
   "source": [
    "efficientnet_model.classifier = nn.Sequential(nn.Dropout(p=0.3, inplace=True),\n",
    "                                              nn.Linear(in_features=1408, out_features=3, bias=True),\n",
    "                                              )    "
   ]
  },
  {
   "cell_type": "code",
   "execution_count": 121,
   "metadata": {},
   "outputs": [
    {
     "data": {
      "text/plain": [
       "===========================================================================================================================================================\n",
       "Layer (type:depth-idx)                                  Input Shape               Output Shape              Param #                   Trainable\n",
       "===========================================================================================================================================================\n",
       "EfficientNet                                            [32, 3, 224, 224]         [32, 3]                   --                        Partial\n",
       "├─Sequential: 1-1                                       [32, 3, 224, 224]         [32, 1408, 7, 7]          --                        False\n",
       "│    └─Conv2dNormActivation: 2-1                        [32, 3, 224, 224]         [32, 32, 112, 112]        --                        False\n",
       "│    │    └─Conv2d: 3-1                                 [32, 3, 224, 224]         [32, 32, 112, 112]        (864)                     False\n",
       "│    │    └─BatchNorm2d: 3-2                            [32, 32, 112, 112]        [32, 32, 112, 112]        (64)                      False\n",
       "│    │    └─SiLU: 3-3                                   [32, 32, 112, 112]        [32, 32, 112, 112]        --                        --\n",
       "│    └─Sequential: 2-2                                  [32, 32, 112, 112]        [32, 16, 112, 112]        --                        False\n",
       "│    │    └─MBConv: 3-4                                 [32, 32, 112, 112]        [32, 16, 112, 112]        (1,448)                   False\n",
       "│    │    └─MBConv: 3-5                                 [32, 16, 112, 112]        [32, 16, 112, 112]        (612)                     False\n",
       "│    └─Sequential: 2-3                                  [32, 16, 112, 112]        [32, 24, 56, 56]          --                        False\n",
       "│    │    └─MBConv: 3-6                                 [32, 16, 112, 112]        [32, 24, 56, 56]          (6,004)                   False\n",
       "│    │    └─MBConv: 3-7                                 [32, 24, 56, 56]          [32, 24, 56, 56]          (10,710)                  False\n",
       "│    │    └─MBConv: 3-8                                 [32, 24, 56, 56]          [32, 24, 56, 56]          (10,710)                  False\n",
       "│    └─Sequential: 2-4                                  [32, 24, 56, 56]          [32, 48, 28, 28]          --                        False\n",
       "│    │    └─MBConv: 3-9                                 [32, 24, 56, 56]          [32, 48, 28, 28]          (16,518)                  False\n",
       "│    │    └─MBConv: 3-10                                [32, 48, 28, 28]          [32, 48, 28, 28]          (43,308)                  False\n",
       "│    │    └─MBConv: 3-11                                [32, 48, 28, 28]          [32, 48, 28, 28]          (43,308)                  False\n",
       "│    └─Sequential: 2-5                                  [32, 48, 28, 28]          [32, 88, 14, 14]          --                        False\n",
       "│    │    └─MBConv: 3-12                                [32, 48, 28, 28]          [32, 88, 14, 14]          (50,300)                  False\n",
       "│    │    └─MBConv: 3-13                                [32, 88, 14, 14]          [32, 88, 14, 14]          (123,750)                 False\n",
       "│    │    └─MBConv: 3-14                                [32, 88, 14, 14]          [32, 88, 14, 14]          (123,750)                 False\n",
       "│    │    └─MBConv: 3-15                                [32, 88, 14, 14]          [32, 88, 14, 14]          (123,750)                 False\n",
       "│    └─Sequential: 2-6                                  [32, 88, 14, 14]          [32, 120, 14, 14]         --                        False\n",
       "│    │    └─MBConv: 3-16                                [32, 88, 14, 14]          [32, 120, 14, 14]         (149,158)                 False\n",
       "│    │    └─MBConv: 3-17                                [32, 120, 14, 14]         [32, 120, 14, 14]         (237,870)                 False\n",
       "│    │    └─MBConv: 3-18                                [32, 120, 14, 14]         [32, 120, 14, 14]         (237,870)                 False\n",
       "│    │    └─MBConv: 3-19                                [32, 120, 14, 14]         [32, 120, 14, 14]         (237,870)                 False\n",
       "│    └─Sequential: 2-7                                  [32, 120, 14, 14]         [32, 208, 7, 7]           --                        False\n",
       "│    │    └─MBConv: 3-20                                [32, 120, 14, 14]         [32, 208, 7, 7]           (301,406)                 False\n",
       "│    │    └─MBConv: 3-21                                [32, 208, 7, 7]           [32, 208, 7, 7]           (686,868)                 False\n",
       "│    │    └─MBConv: 3-22                                [32, 208, 7, 7]           [32, 208, 7, 7]           (686,868)                 False\n",
       "│    │    └─MBConv: 3-23                                [32, 208, 7, 7]           [32, 208, 7, 7]           (686,868)                 False\n",
       "│    │    └─MBConv: 3-24                                [32, 208, 7, 7]           [32, 208, 7, 7]           (686,868)                 False\n",
       "│    └─Sequential: 2-8                                  [32, 208, 7, 7]           [32, 352, 7, 7]           --                        False\n",
       "│    │    └─MBConv: 3-25                                [32, 208, 7, 7]           [32, 352, 7, 7]           (846,900)                 False\n",
       "│    │    └─MBConv: 3-26                                [32, 352, 7, 7]           [32, 352, 7, 7]           (1,888,920)               False\n",
       "│    └─Conv2dNormActivation: 2-9                        [32, 352, 7, 7]           [32, 1408, 7, 7]          --                        False\n",
       "│    │    └─Conv2d: 3-27                                [32, 352, 7, 7]           [32, 1408, 7, 7]          (495,616)                 False\n",
       "│    │    └─BatchNorm2d: 3-28                           [32, 1408, 7, 7]          [32, 1408, 7, 7]          (2,816)                   False\n",
       "│    │    └─SiLU: 3-29                                  [32, 1408, 7, 7]          [32, 1408, 7, 7]          --                        --\n",
       "├─AdaptiveAvgPool2d: 1-2                                [32, 1408, 7, 7]          [32, 1408, 1, 1]          --                        --\n",
       "├─Sequential: 1-3                                       [32, 1408]                [32, 3]                   --                        True\n",
       "│    └─Dropout: 2-10                                    [32, 1408]                [32, 1408]                --                        --\n",
       "│    └─Linear: 2-11                                     [32, 1408]                [32, 3]                   4,227                     True\n",
       "===========================================================================================================================================================\n",
       "Total params: 7,705,221\n",
       "Trainable params: 4,227\n",
       "Non-trainable params: 7,700,994\n",
       "Total mult-adds (Units.GIGABYTES): 21.04\n",
       "===========================================================================================================================================================\n",
       "Input size (MB): 19.27\n",
       "Forward/backward pass size (MB): 5017.53\n",
       "Params size (MB): 30.82\n",
       "Estimated Total Size (MB): 5067.62\n",
       "==========================================================================================================================================================="
      ]
     },
     "execution_count": 121,
     "metadata": {},
     "output_type": "execute_result"
    }
   ],
   "source": [
    "summary(model = efficientnet_model, \n",
    "        input_size = (32, 3, 224, 224),\n",
    "        col_names = [\"input_size\", \"output_size\", \"num_params\", \"trainable\"],)"
   ]
  },
  {
   "cell_type": "code",
   "execution_count": 122,
   "metadata": {},
   "outputs": [],
   "source": [
    "effnet_traindataloader, effnet_testdataloader, class_names = data_setup.create_dataloaders(\n",
    "                                                                                            data_dir = DATA_PATH/IMAGE_PATH,\n",
    "                                                                                            batch_size = BATCH_SIZE,\n",
    "                                                                                            train_transform = effnet_transforms,\n",
    "                                                                                            test_transform = effnet_transforms,\n",
    "                                                                                            num_workers = 0\n",
    ")"
   ]
  },
  {
   "cell_type": "code",
   "execution_count": 123,
   "metadata": {},
   "outputs": [],
   "source": [
    "loss_fn = nn.CrossEntropyLoss()\n",
    "optimizer = torch.optim.Adam(efficientnet_model.parameters(), lr=0.001)"
   ]
  },
  {
   "cell_type": "code",
   "execution_count": 124,
   "metadata": {},
   "outputs": [
    {
     "name": "stderr",
     "output_type": "stream",
     "text": [
      "  5%|▌         | 1/20 [00:04<01:30,  4.78s/it]"
     ]
    },
    {
     "name": "stdout",
     "output_type": "stream",
     "text": [
      "Epoch 1 of 20, Train Loss: 0.9563, Train Acc: 0.5875, Val Loss: 0.7277, Val Acc: 0.9165\n"
     ]
    },
    {
     "name": "stderr",
     "output_type": "stream",
     "text": [
      " 10%|█         | 2/20 [00:09<01:22,  4.57s/it]"
     ]
    },
    {
     "name": "stdout",
     "output_type": "stream",
     "text": [
      "Epoch 2 of 20, Train Loss: 0.6993, Train Acc: 0.8042, Val Loss: 0.5750, Val Acc: 0.9199\n"
     ]
    },
    {
     "name": "stderr",
     "output_type": "stream",
     "text": [
      " 15%|█▌        | 3/20 [00:13<01:14,  4.39s/it]"
     ]
    },
    {
     "name": "stdout",
     "output_type": "stream",
     "text": [
      "Epoch 3 of 20, Train Loss: 0.5511, Train Acc: 0.8812, Val Loss: 0.4966, Val Acc: 0.9347\n"
     ]
    },
    {
     "name": "stderr",
     "output_type": "stream",
     "text": [
      " 20%|██        | 4/20 [00:17<01:08,  4.31s/it]"
     ]
    },
    {
     "name": "stdout",
     "output_type": "stream",
     "text": [
      "Epoch 4 of 20, Train Loss: 0.5361, Train Acc: 0.8562, Val Loss: 0.4131, Val Acc: 0.9381\n"
     ]
    },
    {
     "name": "stderr",
     "output_type": "stream",
     "text": [
      " 25%|██▌       | 5/20 [00:21<01:04,  4.29s/it]"
     ]
    },
    {
     "name": "stdout",
     "output_type": "stream",
     "text": [
      "Epoch 5 of 20, Train Loss: 0.4197, Train Acc: 0.8875, Val Loss: 0.3771, Val Acc: 0.9534\n"
     ]
    },
    {
     "name": "stderr",
     "output_type": "stream",
     "text": [
      " 30%|███       | 6/20 [00:25<00:59,  4.24s/it]"
     ]
    },
    {
     "name": "stdout",
     "output_type": "stream",
     "text": [
      "Epoch 6 of 20, Train Loss: 0.3872, Train Acc: 0.9208, Val Loss: 0.3615, Val Acc: 0.9568\n"
     ]
    },
    {
     "name": "stderr",
     "output_type": "stream",
     "text": [
      " 35%|███▌      | 7/20 [00:30<00:55,  4.25s/it]"
     ]
    },
    {
     "name": "stdout",
     "output_type": "stream",
     "text": [
      "Epoch 7 of 20, Train Loss: 0.4122, Train Acc: 0.8917, Val Loss: 0.3168, Val Acc: 0.9506\n"
     ]
    }
   ],
   "source": [
    "history_effnet , all_preds_effnet, all_labels_effnet, effnetwriter = engine.train(model = efficientnet_model,\n",
    "                                                                                 data_name = \"pizza_steak_sushi\",\n",
    "                                                                                 train_dataloader = effnet_traindataloader,\n",
    "                                                                                 val_dataloader= effnet_testdataloader,\n",
    "                                                                                 epochs = EPCOHS*2,\n",
    "                                                                                 model_name = \"efficientnet_b2\",\n",
    "                                                                                 loss_fn = loss_fn,\n",
    "                                                                                 optimizer = optimizer,\n",
    "                                                                                 device = device\n",
    "                                                                                )"
   ]
  },
  {
   "cell_type": "code",
   "execution_count": null,
   "metadata": {},
   "outputs": [
    {
     "data": {
      "image/png": "[encoded data removed]",
      "text/plain": [
       "<Figure size 1000x700 with 2 Axes>"
      ]
     },
     "metadata": {},
     "output_type": "display_data"
    }
   ],
   "source": [
    "plot_loss_curves.plot_loss_curves(history = history_effnet)"
   ]
  },
  {
   "cell_type": "code",
   "execution_count": 12,
   "metadata": {},
   "outputs": [
    {
     "name": "stdout",
     "output_type": "stream",
     "text": [
      "Saving model to models\\efficientnet_b2.pth\n",
      "Model size is 29 MB\n"
     ]
    }
   ],
   "source": [
    "utils.save_model(model = efficientnet_model,\n",
    "                 target_dir = Path(\"models\"),\n",
    "                 model_name = \"efficientnet_b2_new\")\n",
    "\n",
    "effnet_model_size = Path(\"models/efficientnet_b2.pth\").stat().st_size//(1024 * 1024)\n",
    "print(f\"Model size is {effnet_model_size} MB\")"
   ]
  },
  {
   "cell_type": "code",
   "execution_count": 13,
   "metadata": {},
   "outputs": [
    {
     "name": "stdout",
     "output_type": "stream",
     "text": [
      "Model has 7705221 parameters\n"
     ]
    }
   ],
   "source": [
    "efficientnet_paramaeters = sum(p.numel() for p in efficientnet_model.parameters())\n",
    "print(f\"Model has {efficientnet_paramaeters} parameters\")"
   ]
  },
  {
   "cell_type": "code",
   "execution_count": 14,
   "metadata": {},
   "outputs": [
    {
     "name": "stdout",
     "output_type": "stream",
     "text": [
      "{'test_loss': 0.2993056118488312, 'test_acc': 0.9625, 'number_of_parameters': 7705221, 'model_size (MB)': 29}\n"
     ]
    }
   ],
   "source": [
    "# Create a dictionary with EffNetB2 statistics\n",
    "effnetb2_stats = {\"test_loss\": history_effnet[\"val_loss\"][-1],\n",
    "                  \"test_acc\": history_effnet[\"val_acc\"][-1],\n",
    "                  \"number_of_parameters\": efficientnet_paramaeters,\n",
    "                  \"model_size (MB)\": effnet_model_size}\n",
    "print(effnetb2_stats)"
   ]
  },
  {
   "cell_type": "markdown",
   "metadata": {},
   "source": [
    "### ViT"
   ]
  },
  {
   "cell_type": "code",
   "execution_count": 15,
   "metadata": {},
   "outputs": [],
   "source": [
    "vit_weights = torchvision.models.ViT_B_16_Weights.DEFAULT\n",
    "vit_transforms = vit_weights.transforms()\n",
    "vit_model = torchvision.models.vit_b_16(weights=vit_weights)\n",
    "for param in vit_model.parameters():\n",
    "    param.requires_grad = False"
   ]
  },
  {
   "cell_type": "code",
   "execution_count": 16,
   "metadata": {},
   "outputs": [
    {
     "name": "stderr",
     "output_type": "stream",
     "text": [
      "c:\\Users\\warre\\AppData\\Local\\Programs\\Python\\Python312\\Lib\\site-packages\\torch\\nn\\modules\\activation.py:1196: UserWarning: 1Torch was not compiled with flash attention. (Triggered internally at ..\\aten\\src\\ATen\\native\\transformers\\cuda\\sdp_utils.cpp:263.)\n",
      "  return torch._native_multi_head_attention(\n"
     ]
    },
    {
     "data": {
      "text/plain": [
       "=================================================================================================================================================\n",
       "Layer (type:depth-idx)                        Input Shape               Output Shape              Param #                   Trainable\n",
       "=================================================================================================================================================\n",
       "VisionTransformer                             [32, 3, 224, 224]         [32, 1000]                768                       False\n",
       "├─Conv2d: 1-1                                 [32, 3, 224, 224]         [32, 768, 14, 14]         (590,592)                 False\n",
       "├─Encoder: 1-2                                [32, 197, 768]            [32, 197, 768]            151,296                   False\n",
       "│    └─Dropout: 2-1                           [32, 197, 768]            [32, 197, 768]            --                        --\n",
       "│    └─Sequential: 2-2                        [32, 197, 768]            [32, 197, 768]            --                        False\n",
       "│    │    └─EncoderBlock: 3-1                 [32, 197, 768]            [32, 197, 768]            (7,087,872)               False\n",
       "│    │    └─EncoderBlock: 3-2                 [32, 197, 768]            [32, 197, 768]            (7,087,872)               False\n",
       "│    │    └─EncoderBlock: 3-3                 [32, 197, 768]            [32, 197, 768]            (7,087,872)               False\n",
       "│    │    └─EncoderBlock: 3-4                 [32, 197, 768]            [32, 197, 768]            (7,087,872)               False\n",
       "│    │    └─EncoderBlock: 3-5                 [32, 197, 768]            [32, 197, 768]            (7,087,872)               False\n",
       "│    │    └─EncoderBlock: 3-6                 [32, 197, 768]            [32, 197, 768]            (7,087,872)               False\n",
       "│    │    └─EncoderBlock: 3-7                 [32, 197, 768]            [32, 197, 768]            (7,087,872)               False\n",
       "│    │    └─EncoderBlock: 3-8                 [32, 197, 768]            [32, 197, 768]            (7,087,872)               False\n",
       "│    │    └─EncoderBlock: 3-9                 [32, 197, 768]            [32, 197, 768]            (7,087,872)               False\n",
       "│    │    └─EncoderBlock: 3-10                [32, 197, 768]            [32, 197, 768]            (7,087,872)               False\n",
       "│    │    └─EncoderBlock: 3-11                [32, 197, 768]            [32, 197, 768]            (7,087,872)               False\n",
       "│    │    └─EncoderBlock: 3-12                [32, 197, 768]            [32, 197, 768]            (7,087,872)               False\n",
       "│    └─LayerNorm: 2-3                         [32, 197, 768]            [32, 197, 768]            (1,536)                   False\n",
       "├─Sequential: 1-3                             [32, 768]                 [32, 1000]                --                        False\n",
       "│    └─Linear: 2-4                            [32, 768]                 [32, 1000]                (769,000)                 False\n",
       "=================================================================================================================================================\n",
       "Total params: 86,567,656\n",
       "Trainable params: 0\n",
       "Non-trainable params: 86,567,656\n",
       "Total mult-adds (Units.GIGABYTES): 5.54\n",
       "=================================================================================================================================================\n",
       "Input size (MB): 19.27\n",
       "Forward/backward pass size (MB): 3330.99\n",
       "Params size (MB): 232.27\n",
       "Estimated Total Size (MB): 3582.53\n",
       "================================================================================================================================================="
      ]
     },
     "execution_count": 16,
     "metadata": {},
     "output_type": "execute_result"
    }
   ],
   "source": [
    "summary(model = vit_model, \n",
    "        input_size = (32, 3, 224, 224),\n",
    "        col_names = [\"input_size\", \"output_size\", \"num_params\", \"trainable\"],)"
   ]
  },
  {
   "cell_type": "code",
   "execution_count": 17,
   "metadata": {},
   "outputs": [],
   "source": [
    "vit_model.heads = nn.Sequential(nn.Linear(in_features=768, out_features=3, bias=True))"
   ]
  },
  {
   "cell_type": "code",
   "execution_count": 18,
   "metadata": {},
   "outputs": [
    {
     "data": {
      "text/plain": [
       "=================================================================================================================================================\n",
       "Layer (type:depth-idx)                        Input Shape               Output Shape              Param #                   Trainable\n",
       "=================================================================================================================================================\n",
       "VisionTransformer                             [32, 3, 224, 224]         [32, 3]                   768                       Partial\n",
       "├─Conv2d: 1-1                                 [32, 3, 224, 224]         [32, 768, 14, 14]         (590,592)                 False\n",
       "├─Encoder: 1-2                                [32, 197, 768]            [32, 197, 768]            151,296                   False\n",
       "│    └─Dropout: 2-1                           [32, 197, 768]            [32, 197, 768]            --                        --\n",
       "│    └─Sequential: 2-2                        [32, 197, 768]            [32, 197, 768]            --                        False\n",
       "│    │    └─EncoderBlock: 3-1                 [32, 197, 768]            [32, 197, 768]            (7,087,872)               False\n",
       "│    │    └─EncoderBlock: 3-2                 [32, 197, 768]            [32, 197, 768]            (7,087,872)               False\n",
       "│    │    └─EncoderBlock: 3-3                 [32, 197, 768]            [32, 197, 768]            (7,087,872)               False\n",
       "│    │    └─EncoderBlock: 3-4                 [32, 197, 768]            [32, 197, 768]            (7,087,872)               False\n",
       "│    │    └─EncoderBlock: 3-5                 [32, 197, 768]            [32, 197, 768]            (7,087,872)               False\n",
       "│    │    └─EncoderBlock: 3-6                 [32, 197, 768]            [32, 197, 768]            (7,087,872)               False\n",
       "│    │    └─EncoderBlock: 3-7                 [32, 197, 768]            [32, 197, 768]            (7,087,872)               False\n",
       "│    │    └─EncoderBlock: 3-8                 [32, 197, 768]            [32, 197, 768]            (7,087,872)               False\n",
       "│    │    └─EncoderBlock: 3-9                 [32, 197, 768]            [32, 197, 768]            (7,087,872)               False\n",
       "│    │    └─EncoderBlock: 3-10                [32, 197, 768]            [32, 197, 768]            (7,087,872)               False\n",
       "│    │    └─EncoderBlock: 3-11                [32, 197, 768]            [32, 197, 768]            (7,087,872)               False\n",
       "│    │    └─EncoderBlock: 3-12                [32, 197, 768]            [32, 197, 768]            (7,087,872)               False\n",
       "│    └─LayerNorm: 2-3                         [32, 197, 768]            [32, 197, 768]            (1,536)                   False\n",
       "├─Sequential: 1-3                             [32, 768]                 [32, 3]                   --                        True\n",
       "│    └─Linear: 2-4                            [32, 768]                 [32, 3]                   2,307                     True\n",
       "=================================================================================================================================================\n",
       "Total params: 85,800,963\n",
       "Trainable params: 2,307\n",
       "Non-trainable params: 85,798,656\n",
       "Total mult-adds (Units.GIGABYTES): 5.52\n",
       "=================================================================================================================================================\n",
       "Input size (MB): 19.27\n",
       "Forward/backward pass size (MB): 3330.74\n",
       "Params size (MB): 229.20\n",
       "Estimated Total Size (MB): 3579.21\n",
       "================================================================================================================================================="
      ]
     },
     "execution_count": 18,
     "metadata": {},
     "output_type": "execute_result"
    }
   ],
   "source": [
    "summary(model = vit_model, \n",
    "        input_size = (32, 3, 224, 224),\n",
    "        col_names = [\"input_size\", \"output_size\", \"num_params\", \"trainable\"],)"
   ]
  },
  {
   "cell_type": "code",
   "execution_count": 19,
   "metadata": {},
   "outputs": [],
   "source": [
    "vit_traindataloader, vit_testdataloader, class_names = data_setup.create_dataloaders(\n",
    "                                                                                        data_dir = DATA_PATH/IMAGE_PATH,\n",
    "                                                                                        batch_size = BATCH_SIZE,\n",
    "                                                                                        train_transform = vit_transforms,\n",
    "                                                                                        test_transform = vit_transforms,\n",
    "                                                                                        num_workers = 0\n",
    ")"
   ]
  },
  {
   "cell_type": "code",
   "execution_count": 20,
   "metadata": {},
   "outputs": [],
   "source": [
    "loss_fn = nn.CrossEntropyLoss()\n",
    "optimizer = torch.optim.Adam(vit_model.parameters(), lr=0.001)"
   ]
  },
  {
   "cell_type": "code",
   "execution_count": 21,
   "metadata": {},
   "outputs": [
    {
     "name": "stderr",
     "output_type": "stream",
     "text": [
      " 10%|█         | 1/10 [00:03<00:32,  3.62s/it]"
     ]
    },
    {
     "name": "stdout",
     "output_type": "stream",
     "text": [
      "Epoch 1 of 10, Train Loss: 1.1555, Train Acc: 0.3869, Val Loss: 0.7883, Val Acc: 0.6773\n"
     ]
    },
    {
     "name": "stderr",
     "output_type": "stream",
     "text": [
      " 20%|██        | 2/10 [00:07<00:28,  3.59s/it]"
     ]
    },
    {
     "name": "stdout",
     "output_type": "stream",
     "text": [
      "Epoch 2 of 10, Train Loss: 0.6524, Train Acc: 0.7477, Val Loss: 0.5079, Val Acc: 0.8307\n"
     ]
    },
    {
     "name": "stderr",
     "output_type": "stream",
     "text": [
      " 30%|███       | 3/10 [00:10<00:25,  3.58s/it]"
     ]
    },
    {
     "name": "stdout",
     "output_type": "stream",
     "text": [
      "Epoch 3 of 10, Train Loss: 0.4117, Train Acc: 0.9193, Val Loss: 0.3387, Val Acc: 0.9443\n"
     ]
    },
    {
     "name": "stderr",
     "output_type": "stream",
     "text": [
      " 40%|████      | 4/10 [00:14<00:21,  3.58s/it]"
     ]
    },
    {
     "name": "stdout",
     "output_type": "stream",
     "text": [
      "Epoch 4 of 10, Train Loss: 0.2806, Train Acc: 0.9659, Val Loss: 0.2410, Val Acc: 0.9722\n"
     ]
    },
    {
     "name": "stderr",
     "output_type": "stream",
     "text": [
      " 50%|█████     | 5/10 [00:17<00:17,  3.59s/it]"
     ]
    },
    {
     "name": "stdout",
     "output_type": "stream",
     "text": [
      "Epoch 5 of 10, Train Loss: 0.2082, Train Acc: 0.9875, Val Loss: 0.1840, Val Acc: 0.9875\n"
     ]
    },
    {
     "name": "stderr",
     "output_type": "stream",
     "text": [
      " 60%|██████    | 6/10 [00:21<00:14,  3.58s/it]"
     ]
    },
    {
     "name": "stdout",
     "output_type": "stream",
     "text": [
      "Epoch 6 of 10, Train Loss: 0.1652, Train Acc: 0.9875, Val Loss: 0.1482, Val Acc: 0.9875\n"
     ]
    },
    {
     "name": "stderr",
     "output_type": "stream",
     "text": [
      " 70%|███████   | 7/10 [00:25<00:10,  3.59s/it]"
     ]
    },
    {
     "name": "stdout",
     "output_type": "stream",
     "text": [
      "Epoch 7 of 10, Train Loss: 0.1366, Train Acc: 0.9875, Val Loss: 0.1236, Val Acc: 0.9938\n"
     ]
    },
    {
     "name": "stderr",
     "output_type": "stream",
     "text": [
      " 80%|████████  | 8/10 [00:28<00:07,  3.59s/it]"
     ]
    },
    {
     "name": "stdout",
     "output_type": "stream",
     "text": [
      "Epoch 8 of 10, Train Loss: 0.1159, Train Acc: 0.9938, Val Loss: 0.1056, Val Acc: 1.0000\n"
     ]
    },
    {
     "name": "stderr",
     "output_type": "stream",
     "text": [
      " 90%|█████████ | 9/10 [00:32<00:03,  3.57s/it]"
     ]
    },
    {
     "name": "stdout",
     "output_type": "stream",
     "text": [
      "Epoch 9 of 10, Train Loss: 0.1002, Train Acc: 1.0000, Val Loss: 0.0921, Val Acc: 1.0000\n"
     ]
    },
    {
     "name": "stderr",
     "output_type": "stream",
     "text": [
      "100%|██████████| 10/10 [00:35<00:00,  3.58s/it]"
     ]
    },
    {
     "name": "stdout",
     "output_type": "stream",
     "text": [
      "Epoch 10 of 10, Train Loss: 0.0881, Train Acc: 1.0000, Val Loss: 0.0818, Val Acc: 1.0000\n"
     ]
    },
    {
     "name": "stderr",
     "output_type": "stream",
     "text": [
      "\n"
     ]
    }
   ],
   "source": [
    "history_vit , all_preds_vit, all_labels_vit, vitwriter = engine.train(model = vit_model,\n",
    "                                                                     data_name = \"pizza_steak_sushi\",\n",
    "                                                                     train_dataloader = vit_testdataloader,\n",
    "                                                                     val_dataloader= vit_testdataloader,\n",
    "                                                                     epochs = EPCOHS,\n",
    "                                                                     model_name = \"vit_b_16\",\n",
    "                                                                     loss_fn = loss_fn,\n",
    "                                                                     optimizer = optimizer,\n",
    "                                                                     device = device\n",
    "                                                        )"
   ]
  },
  {
   "cell_type": "code",
   "execution_count": 22,
   "metadata": {},
   "outputs": [
    {
     "data": {
      "image/png": "[encoded data removed]",
      "text/plain": [
       "<Figure size 1000x700 with 2 Axes>"
      ]
     },
     "metadata": {},
     "output_type": "display_data"
    }
   ],
   "source": [
    "plot_loss_curves.plot_loss_curves(history = history_vit)"
   ]
  },
  {
   "cell_type": "code",
   "execution_count": 23,
   "metadata": {},
   "outputs": [
    {
     "name": "stdout",
     "output_type": "stream",
     "text": [
      "Saving model to models\\vit_b_16.pth\n",
      "Model size is 327 MB\n"
     ]
    }
   ],
   "source": [
    "utils.save_model(model = vit_model,\n",
    "                 target_dir = Path(\"models\"),\n",
    "                 model_name = \"vit_b_16\")\n",
    "\n",
    "vit_model_size = Path(\"models/vit_b_16.pth\").stat().st_size//(1024 * 1024)\n",
    "print(f\"Model size is {vit_model_size} MB\")"
   ]
  },
  {
   "cell_type": "code",
   "execution_count": 24,
   "metadata": {},
   "outputs": [
    {
     "name": "stdout",
     "output_type": "stream",
     "text": [
      "Model has 85800963 parameters\n"
     ]
    }
   ],
   "source": [
    "vit_paramaeters = sum(p.numel() for p in vit_model.parameters())\n",
    "print(f\"Model has {vit_paramaeters} parameters\")"
   ]
  },
  {
   "cell_type": "code",
   "execution_count": 25,
   "metadata": {},
   "outputs": [
    {
     "name": "stdout",
     "output_type": "stream",
     "text": [
      "{'test_loss': 0.08175139501690865, 'test_acc': 1.0, 'number_of_parameters': 85800963, 'model_size (MB)': 327}\n"
     ]
    }
   ],
   "source": [
    "# Create a dictionary with EffNetB2 statistics\n",
    "vit_b_16_stats = {\"test_loss\": history_vit[\"val_loss\"][-1],\n",
    "                  \"test_acc\": history_vit[\"val_acc\"][-1],\n",
    "                  \"number_of_parameters\": vit_paramaeters,\n",
    "                  \"model_size (MB)\": vit_model_size}\n",
    "print(vit_b_16_stats)"
   ]
  },
  {
   "cell_type": "markdown",
   "metadata": {},
   "source": [
    "### Performing inference and timing on coth models"
   ]
  },
  {
   "cell_type": "code",
   "execution_count": 26,
   "metadata": {},
   "outputs": [
    {
     "name": "stdout",
     "output_type": "stream",
     "text": [
      "[WindowsPath('data/pizza_steak_sushi_20/test/pizza/1001116.jpg'), WindowsPath('data/pizza_steak_sushi_20/test/pizza/1032754.jpg'), WindowsPath('data/pizza_steak_sushi_20/test/pizza/1067986.jpg'), WindowsPath('data/pizza_steak_sushi_20/test/pizza/129666.jpg'), WindowsPath('data/pizza_steak_sushi_20/test/pizza/1315645.jpg')]\n"
     ]
    }
   ],
   "source": [
    "TEST_DIR = DATA_PATH/IMAGE_PATH/\"test\"\n",
    "test_images = list(TEST_DIR.glob(\"*/*.jpg\"))\n",
    "print(test_images[:5])"
   ]
  },
  {
   "cell_type": "code",
   "execution_count": 27,
   "metadata": {},
   "outputs": [],
   "source": [
    "def pred_and_time(image_paths: Path,\n",
    "                  model: nn.Module,\n",
    "                  device: torch.device,\n",
    "                  transform: torchvision.transforms,\n",
    "                  class_names: List[str]) -> List[Dict]:\n",
    "    \"\"\" Predict the class of an image using a trained model and record the time it takes\n",
    "    Args:\n",
    "    image_paths: List of paths to images\n",
    "    model: Trained model\n",
    "    device: Device to run the model on\n",
    "    transform: Transformation to apply to the images\n",
    "    class_names: The class names of the dataset\n",
    "    Returns:\n",
    "    List of dictionaries containing the image path, actual class, predicted class, predicted probability, inference time and if the prediction was correct\n",
    "    \"\"\"\n",
    "    results = []\n",
    "    model = model.to(device)\n",
    "    model.eval()\n",
    "    with torch.inference_mode():\n",
    "        for image in image_paths:\n",
    "            start_time = time.time()\n",
    "            img = Image.open(image)\n",
    "            img = transform(img).unsqueeze(0).to(device)\n",
    "            pred_logits = model(img)\n",
    "            pred_probs = torch.softmax(pred_logits, dim=1)\n",
    "            pred_class = class_names[torch.argmax(pred_probs)]\n",
    "            pred_class_prob = torch.max(pred_probs)\n",
    "            pred_correct = pred_class == image.parent.stem\n",
    "            end_time = time.time()\n",
    "            results.append({\"image_path\": image.name,\n",
    "                            \"actual_class\": image.parent.stem,\n",
    "                            \"predicted_class\": pred_class,\n",
    "                            \"predicted_probability\": pred_class_prob,\n",
    "                            \"inference_time\": end_time - start_time,\n",
    "                            \"correct\": pred_correct})\n",
    "    return results"
   ]
  },
  {
   "cell_type": "code",
   "execution_count": 28,
   "metadata": {},
   "outputs": [],
   "source": [
    "device = \"cpu\" # Use CPU as not all devices will have a CUDA compatible GPU\n",
    "efficientnet_results = pred_and_time(image_paths = test_images,\n",
    "                                     model = efficientnet_model,\n",
    "                                     device = device,\n",
    "                                     transform = effnet_transforms,\n",
    "                                     class_names = class_names)\n",
    "\n",
    "\n",
    "vit_results = pred_and_time(image_paths = test_images,\n",
    "                            model = vit_model,\n",
    "                            device = device,\n",
    "                            transform = vit_transforms,\n",
    "                            class_names = class_names)"
   ]
  },
  {
   "cell_type": "code",
   "execution_count": 29,
   "metadata": {},
   "outputs": [
    {
     "name": "stdout",
     "output_type": "stream",
     "text": [
      "    image_path actual_class predicted_class predicted_probability  \\\n",
      "0  1001116.jpg        pizza           pizza        tensor(0.9874)   \n",
      "1  1032754.jpg        pizza           pizza        tensor(0.5164)   \n",
      "2  1067986.jpg        pizza           pizza        tensor(0.9918)   \n",
      "3   129666.jpg        pizza           pizza        tensor(0.6228)   \n",
      "4  1315645.jpg        pizza           pizza        tensor(0.7586)   \n",
      "\n",
      "   inference_time  correct  \n",
      "0        0.114929     True  \n",
      "1        0.084134     True  \n",
      "2        0.076416     True  \n",
      "3        0.067533     True  \n",
      "4        0.069079     True  \n",
      "    image_path actual_class predicted_class predicted_probability  \\\n",
      "0  1001116.jpg        pizza           pizza        tensor(0.9922)   \n",
      "1  1032754.jpg        pizza           pizza        tensor(0.9713)   \n",
      "2  1067986.jpg        pizza           pizza        tensor(0.9866)   \n",
      "3   129666.jpg        pizza           pizza        tensor(0.8925)   \n",
      "4  1315645.jpg        pizza           pizza        tensor(0.7389)   \n",
      "\n",
      "   inference_time  correct  \n",
      "0        0.137199     True  \n",
      "1        0.127523     True  \n",
      "2        0.128073     True  \n",
      "3        0.124534     True  \n",
      "4        0.127230     True  \n"
     ]
    }
   ],
   "source": [
    "efficientnet_dataframe = pd.DataFrame(efficientnet_results)\n",
    "vit_dataframe = pd.DataFrame(vit_results)\n",
    "\n",
    "print(efficientnet_dataframe.head())\n",
    "print(vit_dataframe.head())"
   ]
  },
  {
   "cell_type": "code",
   "execution_count": 30,
   "metadata": {},
   "outputs": [
    {
     "name": "stdout",
     "output_type": "stream",
     "text": [
      "Efficientnet results \n",
      "correct\n",
      "True     144\n",
      "False      6\n",
      "Name: count, dtype: int64\n",
      "\n",
      "ViT results \n",
      "correct\n",
      "True    150\n",
      "Name: count, dtype: int64\n"
     ]
    }
   ],
   "source": [
    "print(f\"Efficientnet results \\n{efficientnet_dataframe.correct.value_counts()}\\n\")\n",
    "print(f\"ViT results \\n{vit_dataframe.correct.value_counts()}\")"
   ]
  },
  {
   "cell_type": "code",
   "execution_count": 31,
   "metadata": {},
   "outputs": [
    {
     "name": "stdout",
     "output_type": "stream",
     "text": [
      "Average EfficientNet inference time: 0.07253 seconds\n",
      "Average ViT inference time: 0.12392 seconds\n"
     ]
    }
   ],
   "source": [
    "average_efficientnet_inference_time = efficientnet_dataframe.inference_time.mean()\n",
    "average_vit_ingference_time = vit_dataframe.inference_time.mean()\n",
    "\n",
    "print(f\"Average EfficientNet inference time: {average_efficientnet_inference_time:.5f} seconds\")\n",
    "print(f\"Average ViT inference time: {average_vit_ingference_time:.5f} seconds\")"
   ]
  },
  {
   "cell_type": "code",
   "execution_count": 32,
   "metadata": {},
   "outputs": [],
   "source": [
    "effnetb2_stats[\"average_inference_time\"] = average_efficientnet_inference_time\n",
    "vit_b_16_stats[\"average_inference_time\"] = average_vit_ingference_time"
   ]
  },
  {
   "cell_type": "code",
   "execution_count": 33,
   "metadata": {},
   "outputs": [
    {
     "name": "stdout",
     "output_type": "stream",
     "text": [
      "   test_loss  test_acc  number_of_parameters  model_size (MB)  \\\n",
      "0   0.299306     96.25               7705221               29   \n",
      "1   0.081751    100.00              85800963              327   \n",
      "\n",
      "   average_inference_time            model  \n",
      "0                0.072532  EfficientNet B2  \n",
      "1                0.123917          ViT B16  \n"
     ]
    }
   ],
   "source": [
    "summary_df = pd.DataFrame([effnetb2_stats, vit_b_16_stats])\n",
    "summary_df[\"model\"] = [\"EfficientNet B2\", \"ViT B16\"]\n",
    "summary_df[\"test_acc\"] = round(summary_df[\"test_acc\"] * 100, 2)\n",
    "print(summary_df)"
   ]
  },
  {
   "cell_type": "code",
   "execution_count": 34,
   "metadata": {},
   "outputs": [
    {
     "data": {
      "text/html": [
       "<div>\n",
       "<style scoped>\n",
       "    .dataframe tbody tr th:only-of-type {\n",
       "        vertical-align: middle;\n",
       "    }\n",
       "\n",
       "    .dataframe tbody tr th {\n",
       "        vertical-align: top;\n",
       "    }\n",
       "\n",
       "    .dataframe thead th {\n",
       "        text-align: right;\n",
       "    }\n",
       "</style>\n",
       "<table border=\"1\" class=\"dataframe\">\n",
       "  <thead>\n",
       "    <tr style=\"text-align: right;\">\n",
       "      <th></th>\n",
       "      <th>test_loss</th>\n",
       "      <th>test_acc</th>\n",
       "      <th>number_of_parameters</th>\n",
       "      <th>model_size (MB)</th>\n",
       "      <th>average_inference_time</th>\n",
       "    </tr>\n",
       "  </thead>\n",
       "  <tbody>\n",
       "    <tr>\n",
       "      <th>ViT to EffNetB2 ratios</th>\n",
       "      <td>0.273137</td>\n",
       "      <td>1.038961</td>\n",
       "      <td>11.135432</td>\n",
       "      <td>11.275862</td>\n",
       "      <td>1.708452</td>\n",
       "    </tr>\n",
       "  </tbody>\n",
       "</table>\n",
       "</div>"
      ],
      "text/plain": [
       "                        test_loss  test_acc  number_of_parameters  \\\n",
       "ViT to EffNetB2 ratios   0.273137  1.038961             11.135432   \n",
       "\n",
       "                        model_size (MB)  average_inference_time  \n",
       "ViT to EffNetB2 ratios        11.275862                1.708452  "
      ]
     },
     "execution_count": 34,
     "metadata": {},
     "output_type": "execute_result"
    }
   ],
   "source": [
    "# Compare ViT to EffNetB2 across different characteristics\n",
    "pd.DataFrame(data=(summary_df.set_index(\"model\").loc[\"ViT B16\"] / summary_df.set_index(\"model\").loc[\"EfficientNet B2\"]), # divide ViT statistics by EffNetB2 statistics\n",
    "             columns=[\"ViT to EffNetB2 ratios\"]).T"
   ]
  },
  {
   "cell_type": "code",
   "execution_count": 35,
   "metadata": {},
   "outputs": [
    {
     "data": {
      "image/png": "[encoded data removed]",
      "text/plain": [
       "<Figure size 1000x700 with 1 Axes>"
      ]
     },
     "metadata": {},
     "output_type": "display_data"
    }
   ],
   "source": [
    "plt.figure(figsize=(10, 7))\n",
    "plt.scatter(x = effnetb2_stats[\"average_inference_time\"], y = effnetb2_stats[\"test_acc\"], label = \"EfficientNet B2\", s = effnetb2_stats[\"model_size (MB)\"] // 2)\n",
    "plt.scatter(x = vit_b_16_stats[\"average_inference_time\"], y = vit_b_16_stats[\"test_acc\"], label = \"ViT B16\", s = vit_b_16_stats[\"model_size (MB)\"] // 2)\n",
    "plt.title(\"EfficientNet B2 vs ViT B16\")\n",
    "plt.xlabel(\"Average inference time\")\n",
    "plt.ylabel(\"Test Accuracy (%)\")\n",
    "plt.grid()\n",
    "plt.legend()\n",
    "plt.show()"
   ]
  },
  {
   "cell_type": "markdown",
   "metadata": {},
   "source": [
    "### Creating a Gradio demo"
   ]
  },
  {
   "cell_type": "code",
   "execution_count": 78,
   "metadata": {},
   "outputs": [
    {
     "name": "stdout",
     "output_type": "stream",
     "text": [
      "ImageClassification(\n",
      "    crop_size=[288]\n",
      "    resize_size=[288]\n",
      "    mean=[0.485, 0.456, 0.406]\n",
      "    std=[0.229, 0.224, 0.225]\n",
      "    interpolation=InterpolationMode.BICUBIC\n",
      ")\n"
     ]
    }
   ],
   "source": [
    "deploymentmodel = model_acquisition.EfficientNetb2(num_classes=len(class_names),\n",
    "                                                   state_dict_path=\"models/efficientnet_b2.pth\").to(\"cpu\")"
   ]
  },
  {
   "cell_type": "code",
   "execution_count": 111,
   "metadata": {},
   "outputs": [],
   "source": [
    "def predict(img) -> Tuple[Dict, float]: \n",
    "    \"\"\"Takes an image as an input and returns the predicted class and the probability of the prediction\"\"\"\n",
    "    start_time = time.time()\n",
    "    img = deploymentmodel.transforms(img).unsqueeze(0)\n",
    "    deploymentmodel.eval()\n",
    "    with torch.inference_mode():\n",
    "        pred_logits = deploymentmodel(img)\n",
    "        pred_probs = torch.softmax(pred_logits, dim=1)\n",
    "        print(pred_probs)\n",
    "    pred_probs_and_labels = {class_names[i]: pred_probs[0][i] for i in range(len(class_names))}\n",
    "    end_time = time.time()\n",
    "    return pred_probs_and_labels, end_time - start_time"
   ]
  },
  {
   "cell_type": "code",
   "execution_count": 112,
   "metadata": {},
   "outputs": [
    {
     "name": "stdout",
     "output_type": "stream",
     "text": [
      "tensor([[0.0625, 0.1457, 0.7918]])\n",
      "({'pizza': tensor(0.0625), 'steak': tensor(0.1457), 'sushi': tensor(0.7918)}, 0.07197165489196777)\n"
     ]
    }
   ],
   "source": [
    "random_image = random.choice(test_images)\n",
    "img = Image.open(random_image)\n",
    "print(predict(img))"
   ]
  },
  {
   "cell_type": "code",
   "execution_count": 113,
   "metadata": {},
   "outputs": [
    {
     "name": "stdout",
     "output_type": "stream",
     "text": [
      "['data\\\\pizza_steak_sushi_20\\\\test\\\\pizza\\\\129666.jpg', 'data\\\\pizza_steak_sushi_20\\\\test\\\\steak\\\\48208.jpg', 'data\\\\pizza_steak_sushi_20\\\\test\\\\pizza\\\\2549661.jpg', 'data\\\\pizza_steak_sushi_20\\\\test\\\\pizza\\\\1315645.jpg', 'data\\\\pizza_steak_sushi_20\\\\test\\\\sushi\\\\3834718.jpg']\n"
     ]
    }
   ],
   "source": [
    "# Create example list for gradio demo\n",
    "\n",
    "example_list = [str(file_path) for file_path in random.sample(test_images, 5)]\n",
    "print(example_list)"
   ]
  },
  {
   "cell_type": "code",
   "execution_count": 114,
   "metadata": {},
   "outputs": [
    {
     "name": "stdout",
     "output_type": "stream",
     "text": [
      "Running on local URL:  http://127.0.0.1:7864\n",
      "\n",
      "To create a public link, set `share=True` in `launch()`.\n"
     ]
    },
    {
     "data": {
      "text/html": [
       "<div><iframe src=\"http://127.0.0.1:7864/\" width=\"100%\" height=\"500\" allow=\"autoplay; camera; microphone; clipboard-read; clipboard-write;\" frameborder=\"0\" allowfullscreen></iframe></div>"
      ],
      "text/plain": [
       "<IPython.core.display.HTML object>"
      ]
     },
     "metadata": {},
     "output_type": "display_data"
    },
    {
     "data": {
      "text/plain": []
     },
     "execution_count": 114,
     "metadata": {},
     "output_type": "execute_result"
    },
    {
     "name": "stdout",
     "output_type": "stream",
     "text": [
      "tensor([[0.6548, 0.1972, 0.1480]])\n",
      "tensor([[0.6548, 0.1972, 0.1480]])\n",
      "tensor([[0.3205, 0.0740, 0.6055]])\n",
      "tensor([[0.3960, 0.3453, 0.2587]])\n",
      "tensor([[0.4895, 0.2891, 0.2214]])\n"
     ]
    },
    {
     "name": "stderr",
     "output_type": "stream",
     "text": [
      "Traceback (most recent call last):\n",
      "  File \"c:\\Users\\warre\\AppData\\Local\\Programs\\Python\\Python312\\Lib\\site-packages\\gradio\\queueing.py\", line 541, in process_events\n",
      "    response = await route_utils.call_process_api(\n",
      "               ^^^^^^^^^^^^^^^^^^^^^^^^^^^^^^^^^^^\n",
      "  File \"c:\\Users\\warre\\AppData\\Local\\Programs\\Python\\Python312\\Lib\\site-packages\\gradio\\route_utils.py\", line 276, in call_process_api\n",
      "    output = await app.get_blocks().process_api(\n",
      "             ^^^^^^^^^^^^^^^^^^^^^^^^^^^^^^^^^^^\n",
      "  File \"c:\\Users\\warre\\AppData\\Local\\Programs\\Python\\Python312\\Lib\\site-packages\\gradio\\blocks.py\", line 1928, in process_api\n",
      "    result = await self.call_function(\n",
      "             ^^^^^^^^^^^^^^^^^^^^^^^^^\n",
      "  File \"c:\\Users\\warre\\AppData\\Local\\Programs\\Python\\Python312\\Lib\\site-packages\\gradio\\blocks.py\", line 1514, in call_function\n",
      "    prediction = await anyio.to_thread.run_sync(\n",
      "                 ^^^^^^^^^^^^^^^^^^^^^^^^^^^^^^^\n",
      "  File \"c:\\Users\\warre\\AppData\\Local\\Programs\\Python\\Python312\\Lib\\site-packages\\anyio\\to_thread.py\", line 56, in run_sync\n",
      "    return await get_async_backend().run_sync_in_worker_thread(\n",
      "           ^^^^^^^^^^^^^^^^^^^^^^^^^^^^^^^^^^^^^^^^^^^^^^^^^^^^\n",
      "  File \"c:\\Users\\warre\\AppData\\Local\\Programs\\Python\\Python312\\Lib\\site-packages\\anyio\\_backends\\_asyncio.py\", line 2177, in run_sync_in_worker_thread\n",
      "    return await future\n",
      "           ^^^^^^^^^^^^\n",
      "  File \"c:\\Users\\warre\\AppData\\Local\\Programs\\Python\\Python312\\Lib\\site-packages\\anyio\\_backends\\_asyncio.py\", line 859, in run\n",
      "    result = context.run(func, *args)\n",
      "             ^^^^^^^^^^^^^^^^^^^^^^^^\n",
      "  File \"c:\\Users\\warre\\AppData\\Local\\Programs\\Python\\Python312\\Lib\\site-packages\\gradio\\utils.py\", line 833, in wrapper\n",
      "    response = f(*args, **kwargs)\n",
      "               ^^^^^^^^^^^^^^^^^^\n",
      "  File \"C:\\Users\\warre\\AppData\\Local\\Temp\\ipykernel_33660\\2857864201.py\", line 4, in predict\n",
      "    img = deploymentmodel.transforms(img).unsqueeze(0)\n",
      "          ^^^^^^^^^^^^^^^^^^^^^^^^^^^^^^^\n",
      "  File \"c:\\Users\\warre\\AppData\\Local\\Programs\\Python\\Python312\\Lib\\site-packages\\torch\\nn\\modules\\module.py\", line 1511, in _wrapped_call_impl\n",
      "    return self._call_impl(*args, **kwargs)\n",
      "           ^^^^^^^^^^^^^^^^^^^^^^^^^^^^^^^^\n",
      "  File \"c:\\Users\\warre\\AppData\\Local\\Programs\\Python\\Python312\\Lib\\site-packages\\torch\\nn\\modules\\module.py\", line 1520, in _call_impl\n",
      "    return forward_call(*args, **kwargs)\n",
      "           ^^^^^^^^^^^^^^^^^^^^^^^^^^^^^\n",
      "  File \"c:\\Users\\warre\\AppData\\Local\\Programs\\Python\\Python312\\Lib\\site-packages\\torchvision\\transforms\\_presets.py\", line 58, in forward\n",
      "    img = F.resize(img, self.resize_size, interpolation=self.interpolation, antialias=self.antialias)\n",
      "          ^^^^^^^^^^^^^^^^^^^^^^^^^^^^^^^^^^^^^^^^^^^^^^^^^^^^^^^^^^^^^^^^^^^^^^^^^^^^^^^^^^^^^^^^^^^\n",
      "  File \"c:\\Users\\warre\\AppData\\Local\\Programs\\Python\\Python312\\Lib\\site-packages\\torchvision\\transforms\\functional.py\", line 455, in resize\n",
      "    _, image_height, image_width = get_dimensions(img)\n",
      "                                   ^^^^^^^^^^^^^^^^^^^\n",
      "  File \"c:\\Users\\warre\\AppData\\Local\\Programs\\Python\\Python312\\Lib\\site-packages\\torchvision\\transforms\\functional.py\", line 79, in get_dimensions\n",
      "    return F_pil.get_dimensions(img)\n",
      "           ^^^^^^^^^^^^^^^^^^^^^^^^^\n",
      "  File \"c:\\Users\\warre\\AppData\\Local\\Programs\\Python\\Python312\\Lib\\site-packages\\torchvision\\transforms\\_functional_pil.py\", line 31, in get_dimensions\n",
      "    raise TypeError(f\"Unexpected type {type(img)}\")\n",
      "TypeError: Unexpected type <class 'NoneType'>\n",
      "Traceback (most recent call last):\n",
      "  File \"c:\\Users\\warre\\AppData\\Local\\Programs\\Python\\Python312\\Lib\\site-packages\\gradio\\queueing.py\", line 541, in process_events\n",
      "    response = await route_utils.call_process_api(\n",
      "               ^^^^^^^^^^^^^^^^^^^^^^^^^^^^^^^^^^^\n",
      "  File \"c:\\Users\\warre\\AppData\\Local\\Programs\\Python\\Python312\\Lib\\site-packages\\gradio\\route_utils.py\", line 276, in call_process_api\n",
      "    output = await app.get_blocks().process_api(\n",
      "             ^^^^^^^^^^^^^^^^^^^^^^^^^^^^^^^^^^^\n",
      "  File \"c:\\Users\\warre\\AppData\\Local\\Programs\\Python\\Python312\\Lib\\site-packages\\gradio\\blocks.py\", line 1928, in process_api\n",
      "    result = await self.call_function(\n",
      "             ^^^^^^^^^^^^^^^^^^^^^^^^^\n",
      "  File \"c:\\Users\\warre\\AppData\\Local\\Programs\\Python\\Python312\\Lib\\site-packages\\gradio\\blocks.py\", line 1514, in call_function\n",
      "    prediction = await anyio.to_thread.run_sync(\n",
      "                 ^^^^^^^^^^^^^^^^^^^^^^^^^^^^^^^\n",
      "  File \"c:\\Users\\warre\\AppData\\Local\\Programs\\Python\\Python312\\Lib\\site-packages\\anyio\\to_thread.py\", line 56, in run_sync\n",
      "    return await get_async_backend().run_sync_in_worker_thread(\n",
      "           ^^^^^^^^^^^^^^^^^^^^^^^^^^^^^^^^^^^^^^^^^^^^^^^^^^^^\n",
      "  File \"c:\\Users\\warre\\AppData\\Local\\Programs\\Python\\Python312\\Lib\\site-packages\\anyio\\_backends\\_asyncio.py\", line 2177, in run_sync_in_worker_thread\n",
      "    return await future\n",
      "           ^^^^^^^^^^^^\n",
      "  File \"c:\\Users\\warre\\AppData\\Local\\Programs\\Python\\Python312\\Lib\\site-packages\\anyio\\_backends\\_asyncio.py\", line 859, in run\n",
      "    result = context.run(func, *args)\n",
      "             ^^^^^^^^^^^^^^^^^^^^^^^^\n",
      "  File \"c:\\Users\\warre\\AppData\\Local\\Programs\\Python\\Python312\\Lib\\site-packages\\gradio\\utils.py\", line 833, in wrapper\n",
      "    response = f(*args, **kwargs)\n",
      "               ^^^^^^^^^^^^^^^^^^\n",
      "  File \"C:\\Users\\warre\\AppData\\Local\\Temp\\ipykernel_33660\\2857864201.py\", line 4, in predict\n",
      "    img = deploymentmodel.transforms(img).unsqueeze(0)\n",
      "          ^^^^^^^^^^^^^^^^^^^^^^^^^^^^^^^\n",
      "  File \"c:\\Users\\warre\\AppData\\Local\\Programs\\Python\\Python312\\Lib\\site-packages\\torch\\nn\\modules\\module.py\", line 1511, in _wrapped_call_impl\n",
      "    return self._call_impl(*args, **kwargs)\n",
      "           ^^^^^^^^^^^^^^^^^^^^^^^^^^^^^^^^\n",
      "  File \"c:\\Users\\warre\\AppData\\Local\\Programs\\Python\\Python312\\Lib\\site-packages\\torch\\nn\\modules\\module.py\", line 1520, in _call_impl\n",
      "    return forward_call(*args, **kwargs)\n",
      "           ^^^^^^^^^^^^^^^^^^^^^^^^^^^^^\n",
      "  File \"c:\\Users\\warre\\AppData\\Local\\Programs\\Python\\Python312\\Lib\\site-packages\\torchvision\\transforms\\_presets.py\", line 58, in forward\n",
      "    img = F.resize(img, self.resize_size, interpolation=self.interpolation, antialias=self.antialias)\n",
      "          ^^^^^^^^^^^^^^^^^^^^^^^^^^^^^^^^^^^^^^^^^^^^^^^^^^^^^^^^^^^^^^^^^^^^^^^^^^^^^^^^^^^^^^^^^^^\n",
      "  File \"c:\\Users\\warre\\AppData\\Local\\Programs\\Python\\Python312\\Lib\\site-packages\\torchvision\\transforms\\functional.py\", line 455, in resize\n",
      "    _, image_height, image_width = get_dimensions(img)\n",
      "                                   ^^^^^^^^^^^^^^^^^^^\n",
      "  File \"c:\\Users\\warre\\AppData\\Local\\Programs\\Python\\Python312\\Lib\\site-packages\\torchvision\\transforms\\functional.py\", line 79, in get_dimensions\n",
      "    return F_pil.get_dimensions(img)\n",
      "           ^^^^^^^^^^^^^^^^^^^^^^^^^\n",
      "  File \"c:\\Users\\warre\\AppData\\Local\\Programs\\Python\\Python312\\Lib\\site-packages\\torchvision\\transforms\\_functional_pil.py\", line 31, in get_dimensions\n",
      "    raise TypeError(f\"Unexpected type {type(img)}\")\n",
      "TypeError: Unexpected type <class 'NoneType'>\n",
      "Traceback (most recent call last):\n",
      "  File \"c:\\Users\\warre\\AppData\\Local\\Programs\\Python\\Python312\\Lib\\site-packages\\gradio\\queueing.py\", line 541, in process_events\n",
      "    response = await route_utils.call_process_api(\n",
      "               ^^^^^^^^^^^^^^^^^^^^^^^^^^^^^^^^^^^\n",
      "  File \"c:\\Users\\warre\\AppData\\Local\\Programs\\Python\\Python312\\Lib\\site-packages\\gradio\\route_utils.py\", line 276, in call_process_api\n",
      "    output = await app.get_blocks().process_api(\n",
      "             ^^^^^^^^^^^^^^^^^^^^^^^^^^^^^^^^^^^\n",
      "  File \"c:\\Users\\warre\\AppData\\Local\\Programs\\Python\\Python312\\Lib\\site-packages\\gradio\\blocks.py\", line 1928, in process_api\n",
      "    result = await self.call_function(\n",
      "             ^^^^^^^^^^^^^^^^^^^^^^^^^\n",
      "  File \"c:\\Users\\warre\\AppData\\Local\\Programs\\Python\\Python312\\Lib\\site-packages\\gradio\\blocks.py\", line 1514, in call_function\n",
      "    prediction = await anyio.to_thread.run_sync(\n",
      "                 ^^^^^^^^^^^^^^^^^^^^^^^^^^^^^^^\n",
      "  File \"c:\\Users\\warre\\AppData\\Local\\Programs\\Python\\Python312\\Lib\\site-packages\\anyio\\to_thread.py\", line 56, in run_sync\n",
      "    return await get_async_backend().run_sync_in_worker_thread(\n",
      "           ^^^^^^^^^^^^^^^^^^^^^^^^^^^^^^^^^^^^^^^^^^^^^^^^^^^^\n",
      "  File \"c:\\Users\\warre\\AppData\\Local\\Programs\\Python\\Python312\\Lib\\site-packages\\anyio\\_backends\\_asyncio.py\", line 2177, in run_sync_in_worker_thread\n",
      "    return await future\n",
      "           ^^^^^^^^^^^^\n",
      "  File \"c:\\Users\\warre\\AppData\\Local\\Programs\\Python\\Python312\\Lib\\site-packages\\anyio\\_backends\\_asyncio.py\", line 859, in run\n",
      "    result = context.run(func, *args)\n",
      "             ^^^^^^^^^^^^^^^^^^^^^^^^\n",
      "  File \"c:\\Users\\warre\\AppData\\Local\\Programs\\Python\\Python312\\Lib\\site-packages\\gradio\\utils.py\", line 833, in wrapper\n",
      "    response = f(*args, **kwargs)\n",
      "               ^^^^^^^^^^^^^^^^^^\n",
      "  File \"C:\\Users\\warre\\AppData\\Local\\Temp\\ipykernel_33660\\2857864201.py\", line 4, in predict\n",
      "    img = deploymentmodel.transforms(img).unsqueeze(0)\n",
      "          ^^^^^^^^^^^^^^^^^^^^^^^^^^^^^^^\n",
      "  File \"c:\\Users\\warre\\AppData\\Local\\Programs\\Python\\Python312\\Lib\\site-packages\\torch\\nn\\modules\\module.py\", line 1511, in _wrapped_call_impl\n",
      "    return self._call_impl(*args, **kwargs)\n",
      "           ^^^^^^^^^^^^^^^^^^^^^^^^^^^^^^^^\n",
      "  File \"c:\\Users\\warre\\AppData\\Local\\Programs\\Python\\Python312\\Lib\\site-packages\\torch\\nn\\modules\\module.py\", line 1520, in _call_impl\n",
      "    return forward_call(*args, **kwargs)\n",
      "           ^^^^^^^^^^^^^^^^^^^^^^^^^^^^^\n",
      "  File \"c:\\Users\\warre\\AppData\\Local\\Programs\\Python\\Python312\\Lib\\site-packages\\torchvision\\transforms\\_presets.py\", line 58, in forward\n",
      "    img = F.resize(img, self.resize_size, interpolation=self.interpolation, antialias=self.antialias)\n",
      "          ^^^^^^^^^^^^^^^^^^^^^^^^^^^^^^^^^^^^^^^^^^^^^^^^^^^^^^^^^^^^^^^^^^^^^^^^^^^^^^^^^^^^^^^^^^^\n",
      "  File \"c:\\Users\\warre\\AppData\\Local\\Programs\\Python\\Python312\\Lib\\site-packages\\torchvision\\transforms\\functional.py\", line 455, in resize\n",
      "    _, image_height, image_width = get_dimensions(img)\n",
      "                                   ^^^^^^^^^^^^^^^^^^^\n",
      "  File \"c:\\Users\\warre\\AppData\\Local\\Programs\\Python\\Python312\\Lib\\site-packages\\torchvision\\transforms\\functional.py\", line 79, in get_dimensions\n",
      "    return F_pil.get_dimensions(img)\n",
      "           ^^^^^^^^^^^^^^^^^^^^^^^^^\n",
      "  File \"c:\\Users\\warre\\AppData\\Local\\Programs\\Python\\Python312\\Lib\\site-packages\\torchvision\\transforms\\_functional_pil.py\", line 31, in get_dimensions\n",
      "    raise TypeError(f\"Unexpected type {type(img)}\")\n",
      "TypeError: Unexpected type <class 'NoneType'>\n",
      "Traceback (most recent call last):\n",
      "  File \"c:\\Users\\warre\\AppData\\Local\\Programs\\Python\\Python312\\Lib\\site-packages\\gradio\\queueing.py\", line 541, in process_events\n",
      "    response = await route_utils.call_process_api(\n",
      "               ^^^^^^^^^^^^^^^^^^^^^^^^^^^^^^^^^^^\n",
      "  File \"c:\\Users\\warre\\AppData\\Local\\Programs\\Python\\Python312\\Lib\\site-packages\\gradio\\route_utils.py\", line 276, in call_process_api\n",
      "    output = await app.get_blocks().process_api(\n",
      "             ^^^^^^^^^^^^^^^^^^^^^^^^^^^^^^^^^^^\n",
      "  File \"c:\\Users\\warre\\AppData\\Local\\Programs\\Python\\Python312\\Lib\\site-packages\\gradio\\blocks.py\", line 1928, in process_api\n",
      "    result = await self.call_function(\n",
      "             ^^^^^^^^^^^^^^^^^^^^^^^^^\n",
      "  File \"c:\\Users\\warre\\AppData\\Local\\Programs\\Python\\Python312\\Lib\\site-packages\\gradio\\blocks.py\", line 1514, in call_function\n",
      "    prediction = await anyio.to_thread.run_sync(\n",
      "                 ^^^^^^^^^^^^^^^^^^^^^^^^^^^^^^^\n",
      "  File \"c:\\Users\\warre\\AppData\\Local\\Programs\\Python\\Python312\\Lib\\site-packages\\anyio\\to_thread.py\", line 56, in run_sync\n",
      "    return await get_async_backend().run_sync_in_worker_thread(\n",
      "           ^^^^^^^^^^^^^^^^^^^^^^^^^^^^^^^^^^^^^^^^^^^^^^^^^^^^\n",
      "  File \"c:\\Users\\warre\\AppData\\Local\\Programs\\Python\\Python312\\Lib\\site-packages\\anyio\\_backends\\_asyncio.py\", line 2177, in run_sync_in_worker_thread\n",
      "    return await future\n",
      "           ^^^^^^^^^^^^\n",
      "  File \"c:\\Users\\warre\\AppData\\Local\\Programs\\Python\\Python312\\Lib\\site-packages\\anyio\\_backends\\_asyncio.py\", line 859, in run\n",
      "    result = context.run(func, *args)\n",
      "             ^^^^^^^^^^^^^^^^^^^^^^^^\n",
      "  File \"c:\\Users\\warre\\AppData\\Local\\Programs\\Python\\Python312\\Lib\\site-packages\\gradio\\utils.py\", line 833, in wrapper\n",
      "    response = f(*args, **kwargs)\n",
      "               ^^^^^^^^^^^^^^^^^^\n",
      "  File \"C:\\Users\\warre\\AppData\\Local\\Temp\\ipykernel_33660\\2857864201.py\", line 4, in predict\n",
      "    img = deploymentmodel.transforms(img).unsqueeze(0)\n",
      "          ^^^^^^^^^^^^^^^^^^^^^^^^^^^^^^^\n",
      "  File \"c:\\Users\\warre\\AppData\\Local\\Programs\\Python\\Python312\\Lib\\site-packages\\torch\\nn\\modules\\module.py\", line 1511, in _wrapped_call_impl\n",
      "    return self._call_impl(*args, **kwargs)\n",
      "           ^^^^^^^^^^^^^^^^^^^^^^^^^^^^^^^^\n",
      "  File \"c:\\Users\\warre\\AppData\\Local\\Programs\\Python\\Python312\\Lib\\site-packages\\torch\\nn\\modules\\module.py\", line 1520, in _call_impl\n",
      "    return forward_call(*args, **kwargs)\n",
      "           ^^^^^^^^^^^^^^^^^^^^^^^^^^^^^\n",
      "  File \"c:\\Users\\warre\\AppData\\Local\\Programs\\Python\\Python312\\Lib\\site-packages\\torchvision\\transforms\\_presets.py\", line 58, in forward\n",
      "    img = F.resize(img, self.resize_size, interpolation=self.interpolation, antialias=self.antialias)\n",
      "          ^^^^^^^^^^^^^^^^^^^^^^^^^^^^^^^^^^^^^^^^^^^^^^^^^^^^^^^^^^^^^^^^^^^^^^^^^^^^^^^^^^^^^^^^^^^\n",
      "  File \"c:\\Users\\warre\\AppData\\Local\\Programs\\Python\\Python312\\Lib\\site-packages\\torchvision\\transforms\\functional.py\", line 455, in resize\n",
      "    _, image_height, image_width = get_dimensions(img)\n",
      "                                   ^^^^^^^^^^^^^^^^^^^\n",
      "  File \"c:\\Users\\warre\\AppData\\Local\\Programs\\Python\\Python312\\Lib\\site-packages\\torchvision\\transforms\\functional.py\", line 79, in get_dimensions\n",
      "    return F_pil.get_dimensions(img)\n",
      "           ^^^^^^^^^^^^^^^^^^^^^^^^^\n",
      "  File \"c:\\Users\\warre\\AppData\\Local\\Programs\\Python\\Python312\\Lib\\site-packages\\torchvision\\transforms\\_functional_pil.py\", line 31, in get_dimensions\n",
      "    raise TypeError(f\"Unexpected type {type(img)}\")\n",
      "TypeError: Unexpected type <class 'NoneType'>\n"
     ]
    },
    {
     "name": "stdout",
     "output_type": "stream",
     "text": [
      "tensor([[0.3509, 0.3216, 0.3275]])\n",
      "tensor([[0.3205, 0.0740, 0.6055]])\n"
     ]
    }
   ],
   "source": [
    "demo = gr.Interface(fn = predict,\n",
    "                    inputs =gr.Image(type=\"pil\"),\n",
    "                    outputs =[gr.Label(num_top_classes=3, label=\"Predictions\"), gr.Number(label=\"Prediction time (s)\")],\n",
    "                    examples = example_list,\n",
    "                    title = \"EfficientNet B2 Image Classifier\",\n",
    "                    description=\"This is an image classifier which uses an EfficientNet B2 model to classify images of pizza, steak and sushi\"\n",
    "                    )\n",
    "demo.launch()"
   ]
  },
  {
   "cell_type": "code",
   "execution_count": null,
   "metadata": {},
   "outputs": [],
   "source": []
  }
 ],
 "metadata": {
  "kernelspec": {
   "display_name": "Python 3",
   "language": "python",
   "name": "python3"
  },
  "language_info": {
   "codemirror_mode": {
    "name": "ipython",
    "version": 3
   },
   "file_extension": ".py",
   "mimetype": "text/x-python",
   "name": "python",
   "nbconvert_exporter": "python",
   "pygments_lexer": "ipython3",
   "version": "3.12.1"
  }
 },
 "nbformat": 4,
 "nbformat_minor": 2
}
